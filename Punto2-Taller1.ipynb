{
  "nbformat": 4,
  "nbformat_minor": 0,
  "metadata": {
    "colab": {
      "provenance": []
    },
    "kernelspec": {
      "name": "python3",
      "display_name": "Python 3"
    },
    "language_info": {
      "name": "python"
    }
  },
  "cells": [
    {
      "cell_type": "code",
      "execution_count": 21,
      "metadata": {
        "id": "MhUQLYTezXKH"
      },
      "outputs": [],
      "source": [
        "#Juan Camilo Cubides Solano\n",
        "#Librerias\n",
        "import numpy as np\n",
        "import pandas as pd\n",
        "import matplotlib.pyplot as plt"
      ]
    },
    {
      "cell_type": "code",
      "source": [
        "#Cargar dataset\n",
        "data_clima=pd.read_csv('clima.csv',sep=';')"
      ],
      "metadata": {
        "id": "cpktxmci1HlU"
      },
      "execution_count": null,
      "outputs": []
    },
    {
      "cell_type": "code",
      "source": [
        "#Leer data\n",
        "print(data_clima)"
      ],
      "metadata": {
        "colab": {
          "base_uri": "https://localhost:8080/"
        },
        "id": "AVbLz0_l4G5s",
        "outputId": "68df3a53-35db-40ec-d428-4f56452afd7c"
      },
      "execution_count": null,
      "outputs": [
        {
          "output_type": "stream",
          "name": "stdout",
          "text": [
            "       clima temperatura jugar\n",
            "0    soleado    caliente    no\n",
            "1    soleado    caliente    si\n",
            "2    nublado    caliente    si\n",
            "3   lluvioso    templado    si\n",
            "4    luvioso        frio    no\n",
            "5   lluvioso        frio    no\n",
            "6    nublado        frio    si\n",
            "7    soleado    templado    no\n",
            "8    soleado        frio    si\n",
            "9   lluvioso    templado    si\n",
            "10   soleado    templado    si\n",
            "11   nublado    templado    si\n",
            "12   nublado    caliente    si\n",
            "13  lluvioso    templado    no\n",
            "14   soleado    caliente    no\n",
            "15   soleado    caliente    si\n",
            "16   nublado    caliente    si\n",
            "17  lluvioso    templado    si\n",
            "18   luvioso        frio    no\n",
            "19  lluvioso        frio    no\n",
            "20   nublado        frio    si\n",
            "21   soleado    templado    no\n",
            "22   soleado        frio    si\n",
            "23  lluvioso    templado    si\n",
            "24   soleado    templado    si\n",
            "25   nublado    templado    si\n",
            "26   nublado    caliente    si\n",
            "27  lluvioso    templado    no\n",
            "28   soleado    caliente    no\n",
            "29   soleado    caliente    si\n",
            "30   nublado    caliente    si\n",
            "31  lluvioso    templado    si\n",
            "32   luvioso        frio    no\n",
            "33  lluvioso        frio    no\n",
            "34   nublado        frio    si\n",
            "35   soleado    templado    no\n",
            "36   soleado        frio    si\n",
            "37  lluvioso    templado    si\n",
            "38   soleado    templado    si\n",
            "39   nublado    templado    si\n",
            "40   nublado    caliente    si\n",
            "41  lluvioso    templado    no\n",
            "42   soleado    caliente    no\n",
            "43   soleado    caliente    si\n",
            "44   nublado    caliente    si\n",
            "45  lluvioso    templado    si\n",
            "46   luvioso        frio    no\n",
            "47  lluvioso        frio    no\n",
            "48   nublado        frio    si\n"
          ]
        }
      ]
    },
    {
      "cell_type": "code",
      "source": [
        "#Reemplazar valores de luvios a lluvioso en la columna clima\n",
        "data_clima=data_clima.replace({'luvioso':'lluvioso'})"
      ],
      "metadata": {
        "id": "nz_k2giP2454"
      },
      "execution_count": null,
      "outputs": []
    },
    {
      "cell_type": "code",
      "source": [
        "#Reemplazar valores de frio, templado y caliente\n",
        "data_clima.clima=data_clima.clima.replace({'soleado':0,'nublado':1,'lluvioso':2})\n",
        "print(data_clima)"
      ],
      "metadata": {
        "colab": {
          "base_uri": "https://localhost:8080/"
        },
        "id": "K1Dso0d66WF1",
        "outputId": "b95d6ada-8c21-4b1b-d97b-489d6ef39c1b"
      },
      "execution_count": null,
      "outputs": [
        {
          "output_type": "stream",
          "name": "stdout",
          "text": [
            "    clima temperatura jugar\n",
            "0       0    caliente    no\n",
            "1       0    caliente    si\n",
            "2       1    caliente    si\n",
            "3       2    templado    si\n",
            "4       2        frio    no\n",
            "5       2        frio    no\n",
            "6       1        frio    si\n",
            "7       0    templado    no\n",
            "8       0        frio    si\n",
            "9       2    templado    si\n",
            "10      0    templado    si\n",
            "11      1    templado    si\n",
            "12      1    caliente    si\n",
            "13      2    templado    no\n",
            "14      0    caliente    no\n",
            "15      0    caliente    si\n",
            "16      1    caliente    si\n",
            "17      2    templado    si\n",
            "18      2        frio    no\n",
            "19      2        frio    no\n",
            "20      1        frio    si\n",
            "21      0    templado    no\n",
            "22      0        frio    si\n",
            "23      2    templado    si\n",
            "24      0    templado    si\n",
            "25      1    templado    si\n",
            "26      1    caliente    si\n",
            "27      2    templado    no\n",
            "28      0    caliente    no\n",
            "29      0    caliente    si\n",
            "30      1    caliente    si\n",
            "31      2    templado    si\n",
            "32      2        frio    no\n",
            "33      2        frio    no\n",
            "34      1        frio    si\n",
            "35      0    templado    no\n",
            "36      0        frio    si\n",
            "37      2    templado    si\n",
            "38      0    templado    si\n",
            "39      1    templado    si\n",
            "40      1    caliente    si\n",
            "41      2    templado    no\n",
            "42      0    caliente    no\n",
            "43      0    caliente    si\n",
            "44      1    caliente    si\n",
            "45      2    templado    si\n",
            "46      2        frio    no\n",
            "47      2        frio    no\n",
            "48      1        frio    si\n"
          ]
        }
      ]
    },
    {
      "cell_type": "code",
      "source": [
        "#Reemplazar valores de frio, templado y caliente\n",
        "data_clima.temperatura=data_clima.temperatura.replace({'frio':0,'templado':1,'caliente':2})\n",
        "print(data_clima)"
      ],
      "metadata": {
        "colab": {
          "base_uri": "https://localhost:8080/"
        },
        "id": "9JzvU4VP8j2d",
        "outputId": "7dae189b-9aa6-4e4f-c900-7a2eb116bb58"
      },
      "execution_count": null,
      "outputs": [
        {
          "output_type": "stream",
          "name": "stdout",
          "text": [
            "    clima  temperatura jugar\n",
            "0       0            2    no\n",
            "1       0            2    si\n",
            "2       1            2    si\n",
            "3       2            1    si\n",
            "4       2            0    no\n",
            "5       2            0    no\n",
            "6       1            0    si\n",
            "7       0            1    no\n",
            "8       0            0    si\n",
            "9       2            1    si\n",
            "10      0            1    si\n",
            "11      1            1    si\n",
            "12      1            2    si\n",
            "13      2            1    no\n",
            "14      0            2    no\n",
            "15      0            2    si\n",
            "16      1            2    si\n",
            "17      2            1    si\n",
            "18      2            0    no\n",
            "19      2            0    no\n",
            "20      1            0    si\n",
            "21      0            1    no\n",
            "22      0            0    si\n",
            "23      2            1    si\n",
            "24      0            1    si\n",
            "25      1            1    si\n",
            "26      1            2    si\n",
            "27      2            1    no\n",
            "28      0            2    no\n",
            "29      0            2    si\n",
            "30      1            2    si\n",
            "31      2            1    si\n",
            "32      2            0    no\n",
            "33      2            0    no\n",
            "34      1            0    si\n",
            "35      0            1    no\n",
            "36      0            0    si\n",
            "37      2            1    si\n",
            "38      0            1    si\n",
            "39      1            1    si\n",
            "40      1            2    si\n",
            "41      2            1    no\n",
            "42      0            2    no\n",
            "43      0            2    si\n",
            "44      1            2    si\n",
            "45      2            1    si\n",
            "46      2            0    no\n",
            "47      2            0    no\n",
            "48      1            0    si\n"
          ]
        }
      ]
    },
    {
      "cell_type": "code",
      "source": [
        "#Reemplazar valores de si y no\n",
        "data_clima.jugar=data_clima.jugar.replace({'no':0,'si':1,})\n",
        "print(data_clima)"
      ],
      "metadata": {
        "colab": {
          "base_uri": "https://localhost:8080/"
        },
        "id": "dwQ7dbei9KtE",
        "outputId": "8641a49f-1748-482a-aec1-eb8a47823175"
      },
      "execution_count": null,
      "outputs": [
        {
          "output_type": "stream",
          "name": "stdout",
          "text": [
            "    clima  temperatura  jugar\n",
            "0       0            2      0\n",
            "1       0            2      1\n",
            "2       1            2      1\n",
            "3       2            1      1\n",
            "4       2            0      0\n",
            "5       2            0      0\n",
            "6       1            0      1\n",
            "7       0            1      0\n",
            "8       0            0      1\n",
            "9       2            1      1\n",
            "10      0            1      1\n",
            "11      1            1      1\n",
            "12      1            2      1\n",
            "13      2            1      0\n",
            "14      0            2      0\n",
            "15      0            2      1\n",
            "16      1            2      1\n",
            "17      2            1      1\n",
            "18      2            0      0\n",
            "19      2            0      0\n",
            "20      1            0      1\n",
            "21      0            1      0\n",
            "22      0            0      1\n",
            "23      2            1      1\n",
            "24      0            1      1\n",
            "25      1            1      1\n",
            "26      1            2      1\n",
            "27      2            1      0\n",
            "28      0            2      0\n",
            "29      0            2      1\n",
            "30      1            2      1\n",
            "31      2            1      1\n",
            "32      2            0      0\n",
            "33      2            0      0\n",
            "34      1            0      1\n",
            "35      0            1      0\n",
            "36      0            0      1\n",
            "37      2            1      1\n",
            "38      0            1      1\n",
            "39      1            1      1\n",
            "40      1            2      1\n",
            "41      2            1      0\n",
            "42      0            2      0\n",
            "43      0            2      1\n",
            "44      1            2      1\n",
            "45      2            1      1\n",
            "46      2            0      0\n",
            "47      2            0      0\n",
            "48      1            0      1\n"
          ]
        }
      ]
    },
    {
      "cell_type": "code",
      "source": [
        "#Calcular la sumatoria, promedio y desviacion estandar de cada columna\n",
        "resultados = {}\n",
        "for columna, valores in data_clima.items():\n",
        "    suma = np.sum(valores)\n",
        "    promedio = np.mean(valores)\n",
        "    desviacion = np.std(valores)\n",
        "    resultados[columna] = {'sumatoria': suma, 'promedio': promedio, 'desviacion': desviacion}"
      ],
      "metadata": {
        "id": "hVWRGieROcFS"
      },
      "execution_count": 32,
      "outputs": []
    },
    {
      "cell_type": "code",
      "source": [
        "#Realizar graficas de barra agrupadas de cada variable\n",
        "columnas = list(resultados.keys())\n",
        "variables = ['sumatoria', 'promedio', 'desviacion']\n",
        "x = np.arange(len(columnas))\n",
        "ancho_barra = 0.2\n",
        "\n",
        "for i, variable in enumerate(variables):\n",
        "    valores = [resultados[col][variable] for col in columnas]\n",
        "    plt.bar(x + i * ancho_barra, valores, width=ancho_barra, label=variable)\n",
        "\n",
        "plt.xlabel('Variables')\n",
        "plt.ylabel('Valores')\n",
        "plt.title('Resumen de Datos')\n",
        "plt.xticks(x + ancho_barra, columnas)\n",
        "plt.legend()\n",
        "plt.tight_layout()\n",
        "plt.show()"
      ],
      "metadata": {
        "colab": {
          "base_uri": "https://localhost:8080/",
          "height": 487
        },
        "id": "2IqRKS6WCcZZ",
        "outputId": "bedea34f-487d-4911-984e-9a05076ffebd"
      },
      "execution_count": 31,
      "outputs": [
        {
          "output_type": "display_data",
          "data": {
            "text/plain": [
              "<Figure size 640x480 with 1 Axes>"
            ],
            "image/png": "[encoded data removed]"
          },
          "metadata": {}
        }
      ]
    },
    {
      "cell_type": "code",
      "source": [
        "#Argumentar observaciones sobre las graficas:\n",
        "#Se puede observar que la sumatoria, el promedio y la desviacion estandar de la variable jugar son notablemente menor que los de las otras variables"
      ],
      "metadata": {
        "id": "eQBMK6_xPw4g"
      },
      "execution_count": null,
      "outputs": []
    }
  ]
}